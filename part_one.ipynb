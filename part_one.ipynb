{
 "cells": [
  {
   "cell_type": "markdown",
   "id": "4074788b-d26e-443c-a91c-89af4bdfd036",
   "metadata": {},
   "source": [
    "# 1 - Business Opportunity"
   ]
  },
  {
   "cell_type": "markdown",
   "id": "7a970093-e3ca-4d26-82fd-121f83afc733",
   "metadata": {},
   "source": [
    "## The Project Objective"
   ]
  },
  {
   "cell_type": "markdown",
   "id": "74f35aa6-bf7b-4f7b-94db-87a2cd6f59f7",
   "metadata": {},
   "source": [
    "AAVAIL aims to transition from a tiered subscription model to an à la carte service model based on user feedback and evolving market demands, especially in international markets.   \n",
    "In order to achieve this, the company seeks to develop a revenue projection tool that can accurately predict monthly revenue for specific countries using a machine learning model.     \n",
    "This tool is crucial for the management team, who currently rely on manual methods to estimate revenue and face challenges with accuracy and efficiency.    \n",
    "By automating revenue predictions, AAVAIL hopes to streamline decision-making processes, stabilize staffing and budget projections, and ultimately enhance business performance."
   ]
  },
  {
   "cell_type": "markdown",
   "id": "1dd49da8-9a86-42f5-8604-6acbe5a35890",
   "metadata": {},
   "source": [
    "## The Stakeholders"
   ]
  },
  {
   "cell_type": "markdown",
   "id": "941de858-16ae-4c00-ad08-a3a444478c07",
   "metadata": {},
   "source": [
    "Two primary groups have been involved in the design thinking process:\n",
    "\n",
    "- `End Users`: AAVAIL customers who will benefit from the new subscription model.\n",
    "- `Managers`: AAVAIL responsibles for revenue projections and who have expressed a need for a more effective forecasting tool.\n"
   ]
  },
  {
   "cell_type": "markdown",
   "id": "02d4db28-e132-4e1f-96bd-4b18c6276e40",
   "metadata": {},
   "source": [
    "## The Ideal Data"
   ]
  },
  {
   "cell_type": "markdown",
   "id": "293a5593-1e17-41e7-a71f-0221dd7e485d",
   "metadata": {},
   "source": [
    "To effectively address the business opportunity, the following data points would be ideal:\n",
    "\n",
    "**Transaction-Level Data:**\n",
    "- `Date`: The date of each transaction to analyze revenue trends over time.\n",
    "- `Invoice ID`: A unique identifier for each transaction, stripped of non-numeric characters for consistency.\n",
    "- `Service Type`: The specific service subscribed to, allowing for differentiation between offerings.\n",
    "- `Times viewed` : The number of times a particular content or service was viewed by the customer, providing insights into engagement levels.\n",
    "- `Transaction Amount`: The revenue generated from each transaction to calculate total revenue.\n",
    "\n",
    "**User Data:**                            \n",
    "- `User ID`: A unique identifier for each user to track their purchasing behavior.\n",
    "- `Subscription Type`: Details about whether users are on à la carte or tiered subscriptions.\n",
    "- `User Demographics`: Age, gender, and other demographics to analyze trends in purchasing behavior.\n",
    "\n",
    "**Country Data**\n",
    "- `Country`: The country of each user to analyze revenue generation across different markets.\n",
    "- `City` : The city of each user to analyze revenue generation across different local markets.\n",
    "- `GDP per Capita` : The total economic output of the country, often used as a measure of economic health and consumer spending potential.\n",
    "- `Currency Exchange Rates` : The current value of the country's currency relative to other major currencies, particularly USD or EUR, which could affect subscription pricing.\n",
    "- `Holidays and Seasonal Trends`: National holidays or cultural events that could impact subscription patterns or usage trends.\n"
   ]
  },
  {
   "cell_type": "markdown",
   "id": "1aa8a63f-a59f-4123-a232-fa9b976050a5",
   "metadata": {},
   "source": [
    "## The Available Data "
   ]
  },
  {
   "cell_type": "markdown",
   "id": "173902ff-bb15-4bf1-9305-fc3acc24de92",
   "metadata": {},
   "source": [
    "There is a dataset consisting of transaction-level purchases from several thousand active users across 38 countries, providing valuable historical data. The fields of this dataset are as follow :\n",
    "\n",
    "- `date` : The date in which the data was recorded, indicating when the transactions occurred.\n",
    "- `country` : The country where the transaction took place, providing geographical context for the sales data.\n",
    "- `invoice` : A unique identifier for each transaction or purchase, enabling tracking of individual sales.\n",
    "- `customer_id` : A unique identifier for each customer, allowing for tracking and analysis of customer behavior and purchase patterns.\n",
    "- `stream_id` : An identifier for the content or service that was accessed or purchased, indicating the source of the transaction.\n",
    "- `times_viewed` : The number of times a particular content or service was viewed by the customer, providing insights into engagement levels.\n",
    "- `price` : The monetary amount charged for the transaction, reflecting the revenue generated from each sale.\n",
    "\n",
    "This dataset was supplied by the company as multiple `JSON` files, each representing a month of the year. \n",
    "\n",
    "Each file contains a `list of dictionaries` featuring the specified key fields mentioned above and historical data values spanning `from November 2017 to July 2019`."
   ]
  },
  {
   "cell_type": "markdown",
   "id": "c4bda638-51cb-4349-b460-a3fca610c6df",
   "metadata": {},
   "source": [
    "--------------------------------------------------------------------------------------------------------------------------------------------\n",
    "--------------------------------------------------------------------------------------------------------------------------------------------\n",
    "--------------------------------------------------------------------------------------------------------------------------------------------"
   ]
  },
  {
   "cell_type": "markdown",
   "id": "83fb8bcf-2cd1-46cb-ba3e-59acd88580d9",
   "metadata": {},
   "source": [
    "# 2 - Data Ingestion"
   ]
  },
  {
   "cell_type": "markdown",
   "id": "010ff3bc-a5cd-4619-a6d8-9a83178066f4",
   "metadata": {},
   "source": [
    "In this section, we are creating a python script to `extract the relevant data` from multiple data sources, automating the process of data ingestion.\n",
    "From within a Python module the function `XXX` reads in the data, attempts to catch common input errors and returns a feature matrix that will subsequently be used as a starting point for the EDA and the modeling."
   ]
  },
  {
   "cell_type": "code",
   "execution_count": 68,
   "id": "06a6e659-8100-437c-9ad0-b1974c5ddfa4",
   "metadata": {},
   "outputs": [
    {
     "name": "stdout",
     "output_type": "stream",
     "text": [
      "\n",
      "Necessary librairies imported\n",
      "\n"
     ]
    }
   ],
   "source": [
    "## Import necessary librairies \n",
    "\n",
    "from ingestion_module import load_json_data\n",
    "\n",
    "import pandas as pd\n",
    "import numpy as np\n",
    "import seaborn as sns\n",
    "import matplotlib.pyplot as plt\n",
    "import plotly.express as px\n",
    "\n",
    "import warnings\n",
    "warnings.filterwarnings('ignore')\n",
    "\n",
    "\n",
    "print('\\nNecessary librairies imported\\n')\n"
   ]
  },
  {
   "cell_type": "code",
   "execution_count": 2,
   "id": "57c159b0-cb8a-40f7-8814-8e9a102cdbda",
   "metadata": {
    "editable": true,
    "slideshow": {
     "slide_type": ""
    },
    "tags": []
   },
   "outputs": [
    {
     "name": "stdout",
     "output_type": "stream",
     "text": [
      "\n",
      "... Dataframe loaded as 'loaded_df'\n",
      "\n"
     ]
    }
   ],
   "source": [
    "## loading the dataframe as loaded_df\n",
    "\n",
    "loaded_df = load_json_data('cs-train')\n",
    "\n",
    "print(\"\\n... Dataframe loaded as 'loaded_df'\\n\")"
   ]
  },
  {
   "cell_type": "markdown",
   "id": "bc36bda7-2e7a-4acb-bf52-02ebbac329f7",
   "metadata": {},
   "source": [
    "## A - Basic Data Exploratory  "
   ]
  },
  {
   "cell_type": "code",
   "execution_count": 3,
   "id": "2306ccf6-4756-4518-b96f-70bfee0cd4ed",
   "metadata": {},
   "outputs": [
    {
     "name": "stdout",
     "output_type": "stream",
     "text": [
      "\n",
      "Warning: There are 28844 duplicate rows\n",
      "\n"
     ]
    }
   ],
   "source": [
    "## Check for Duplicate rows in loaded_df\n",
    "\n",
    "duplicate_rows = loaded_df.duplicated(keep=\"first\")\n",
    "total_duplicates = duplicate_rows.sum()\n",
    "print(f\"\\nWarning: There are {total_duplicates} duplicate rows\\n\")\n"
   ]
  },
  {
   "cell_type": "code",
   "execution_count": 4,
   "id": "9f2759c0-d262-4c7d-908b-6b2db7fe881d",
   "metadata": {},
   "outputs": [
    {
     "name": "stdout",
     "output_type": "stream",
     "text": [
      "\n",
      "A deep copy of loaded_df named loaded_df_original has been created'\n",
      "\n"
     ]
    }
   ],
   "source": [
    "# Create a deep copy of the loaded_df named loaded_df_original\n",
    "\n",
    "loaded_df_original = loaded_df.copy()  \n",
    "\n",
    "print(\"\\nA deep copy of loaded_df named loaded_df_original has been created'\\n\")"
   ]
  },
  {
   "cell_type": "code",
   "execution_count": 5,
   "id": "ed42fca3-209e-412e-983e-046b15bac1bb",
   "metadata": {},
   "outputs": [
    {
     "name": "stdout",
     "output_type": "stream",
     "text": [
      "\n",
      "Duplicated Summary\n",
      "----------------------\n",
      "... removed 28844 duplicate rows in the loaded_df\n",
      "\n"
     ]
    }
   ],
   "source": [
    "# Remove the duplicate rows in loaded_df\n",
    "\n",
    "print(\"\\nDuplicated Summary\\n{}\".format(\"-\"*22))\n",
    "size_before = len(loaded_df)\n",
    "loaded_df.drop_duplicates(keep=\"first\", inplace=True )\n",
    "size_after = len(loaded_df)\n",
    "print(\"... removed {} duplicate rows in the loaded_df\\n\".format(size_before-size_after))"
   ]
  },
  {
   "cell_type": "code",
   "execution_count": 6,
   "id": "4bb68bd3-6019-498e-82af-ab53c24348a8",
   "metadata": {},
   "outputs": [
    {
     "name": "stdout",
     "output_type": "stream",
     "text": [
      "\n",
      "Warning: There are some missing values in the dataframe\n",
      "\n",
      "Missing_values Summary\n",
      "-------------------------\n",
      "There are 182194 missing values in the customer_id column\n",
      "\n"
     ]
    }
   ],
   "source": [
    "## Check for Missing Values in loaded_df\n",
    "\n",
    "missing_values = loaded_df.isnull().sum()\n",
    "if missing_values.sum() > 0:\n",
    "    print(\"\\nWarning: There are some missing values in the dataframe\")\n",
    "    print(\"\\nMissing_values Summary\\n{}\".format(\"-\"*25))\n",
    "else :\n",
    "    print(\"\\nThere are no missing values in the dataframe\")\n",
    "    \n",
    "# Filter for columns with missing values\n",
    "missing_data = missing_values[missing_values > 0]\n",
    "\n",
    "# Print the column name and number of missing values\n",
    "for column, missing_count in missing_data.items():\n",
    "    print(f\"There are {missing_count} missing values in the {column} column\\n\")"
   ]
  },
  {
   "cell_type": "code",
   "execution_count": 86,
   "id": "9f67f336-816c-4ac8-9525-fcf805242c39",
   "metadata": {},
   "outputs": [
    {
     "name": "stdout",
     "output_type": "stream",
     "text": [
      "\n",
      "Uniqueness of entries in each column\n",
      "---------------------------------------\n",
      "There are 43 unique country\n",
      "There are 495 unique date\n",
      "There are 42646 unique invoice_id\n",
      "There are 5225 unique customer_id\n",
      "There are 5007 unique stream_id\n"
     ]
    }
   ],
   "source": [
    "## Check for uniqueness of entries in each column of loaded_df\n",
    "\n",
    "print(\"\\nUniqueness of entries in each column\\n{}\".format(\"-\"*39))\n",
    "for column in ['country','date','invoice_id','customer_id','stream_id'] :\n",
    "    num_unique = loaded_df[column].nunique()           # Total unique values in the column\n",
    "    \n",
    "    print(f\"There are {num_unique} unique {column}\")\n"
   ]
  },
  {
   "cell_type": "markdown",
   "id": "b737db25-d15e-47d1-aded-7e90c51499ae",
   "metadata": {},
   "source": [
    "## B - Dates investigation"
   ]
  },
  {
   "cell_type": "code",
   "execution_count": 88,
   "id": "e066e165-239c-4f7d-9635-a117c951b3a1",
   "metadata": {},
   "outputs": [
    {
     "name": "stdout",
     "output_type": "stream",
     "text": [
      "\n",
      "As highlighted above, there are 495 unique date, but the dates span a range of 611 days - starting the 2017-11-28 and ending the 2019-07-31 - giving us `116` missing observations.\n",
      "\n"
     ]
    }
   ],
   "source": [
    "## Dates Span and Missing Observations\n",
    "\n",
    "max_date = loaded_df.date.max()\n",
    "min_date = loaded_df.date.min()\n",
    "\n",
    "span_dates = (max_date -  min_date).days + 1\n",
    "nunique_dates = loaded_df.date.nunique()\n",
    "missing_observations = span_dates - nunique_dates\n",
    "\n",
    "\n",
    "print(f'\\nAs highlighted above, there are {nunique_dates} unique date, but the dates span a range of {span_dates} days \\\n",
    "- starting the {min_date} and ending the {max_date} - giving us {missing_observations} missing observations.\\n')\n"
   ]
  },
  {
   "cell_type": "markdown",
   "id": "91f8608e-01e7-4116-9538-90a7321953e1",
   "metadata": {},
   "source": [
    "## C - Revenu investigation"
   ]
  },
  {
   "cell_type": "code",
   "execution_count": 101,
   "id": "9aab05bc-c74a-4e13-9374-bab7c234a913",
   "metadata": {},
   "outputs": [
    {
     "name": "stdout",
     "output_type": "stream",
     "text": [
      "\n",
      "The top five revenue-generating countries\n",
      "\n"
     ]
    },
    {
     "data": {
      "text/html": [
       "<div>\n",
       "<style scoped>\n",
       "    .dataframe tbody tr th:only-of-type {\n",
       "        vertical-align: middle;\n",
       "    }\n",
       "\n",
       "    .dataframe tbody tr th {\n",
       "        vertical-align: top;\n",
       "    }\n",
       "\n",
       "    .dataframe thead th {\n",
       "        text-align: right;\n",
       "    }\n",
       "</style>\n",
       "<table border=\"1\" class=\"dataframe\">\n",
       "  <thead>\n",
       "    <tr style=\"text-align: right;\">\n",
       "      <th></th>\n",
       "      <th>revenue</th>\n",
       "      <th>percentage</th>\n",
       "    </tr>\n",
       "    <tr>\n",
       "      <th>country</th>\n",
       "      <th></th>\n",
       "      <th></th>\n",
       "    </tr>\n",
       "  </thead>\n",
       "  <tbody>\n",
       "    <tr>\n",
       "      <th>United Kingdom</th>\n",
       "      <td>3,381,963.48</td>\n",
       "      <td>89.69%</td>\n",
       "    </tr>\n",
       "    <tr>\n",
       "      <th>EIRE</th>\n",
       "      <td>106,223.37</td>\n",
       "      <td>2.82%</td>\n",
       "    </tr>\n",
       "    <tr>\n",
       "      <th>Germany</th>\n",
       "      <td>48,356.79</td>\n",
       "      <td>1.28%</td>\n",
       "    </tr>\n",
       "    <tr>\n",
       "      <th>France</th>\n",
       "      <td>39,665.39</td>\n",
       "      <td>1.05%</td>\n",
       "    </tr>\n",
       "    <tr>\n",
       "      <th>Norway</th>\n",
       "      <td>38,336.38</td>\n",
       "      <td>1.02%</td>\n",
       "    </tr>\n",
       "  </tbody>\n",
       "</table>\n",
       "</div>"
      ],
      "text/plain": [
       "                     revenue percentage\n",
       "country                                \n",
       "United Kingdom  3,381,963.48     89.69%\n",
       "EIRE              106,223.37      2.82%\n",
       "Germany            48,356.79      1.28%\n",
       "France             39,665.39      1.05%\n",
       "Norway             38,336.38      1.02%"
      ]
     },
     "metadata": {},
     "output_type": "display_data"
    },
    {
     "name": "stdout",
     "output_type": "stream",
     "text": [
      "\n",
      "The revenue generated by United Kingdom is approximately 15.0 times greater than the combined revenue of the next four countries.\n",
      "\n"
     ]
    },
    {
     "data": {
      "image/png": "[encoded data removed]",
      "text/plain": [
       "<Figure size 1000x600 with 1 Axes>"
      ]
     },
     "metadata": {},
     "output_type": "display_data"
    }
   ],
   "source": [
    "# Group by country and calculate the total revenue for each country\n",
    "revenue_country = (loaded_df[['country', 'price']]\n",
    "                   .groupby('country')\n",
    "                   .sum()\n",
    "                   .rename(columns={'price': 'revenue_'}))\n",
    "\n",
    "# Calculate total revenue and percentage contribution for each country\n",
    "total_revenue = revenue_country['revenue_'].sum()\n",
    "revenue_country = revenue_country.assign( \n",
    "                                         percentage_=(revenue_country['revenue_'] / total_revenue) * 100\n",
    "                                        )\n",
    "\n",
    "# Sort by revenue in descending order and format for display\n",
    "revenue_country = (revenue_country\n",
    "                   .sort_values(by='revenue_', ascending=False)\n",
    "                   .assign(revenue=lambda df: df['revenue_'].apply(lambda x: f\"{x:,.2f}\"),\n",
    "                           percentage=lambda df: df['percentage_'].apply(lambda x: f\"{x:.2f}%\")\n",
    "                          )\n",
    "                  )\n",
    "\n",
    "# Display the top five revenue-generating countries\n",
    "print('\\nThe top five revenue-generating countries\\n')\n",
    "display(revenue_country[['revenue', 'percentage']].head(5))\n",
    "\n",
    "# Calculate the revenue ratio between the top country and the next four combined\n",
    "revenue_ratio = (revenue_country['revenue_'].values[0] /\n",
    "                 revenue_country['revenue_'].values[1:5].sum()).round(0)\n",
    "print(f'\\nThe revenue generated by {revenue_country.index[0]} is approximately '\n",
    "      f'{revenue_ratio} times greater than the combined revenue of the next four countries.\\n')\n",
    "\n",
    "# Plot a horizontal bar chart for the top 5 revenue-generating countries\n",
    "top_5_countries = revenue_country.head(5)\n",
    "plt.figure(figsize=(10, 6))\n",
    "sns.barplot(x='revenue_', y=top_5_countries.index.tolist(), data=revenue_country.head(5), palette='viridis')\n",
    "\n",
    "# Set the x-axis to a logarithmic scale\n",
    "plt.xscale('log')\n",
    "\n",
    "# Add labels and title\n",
    "plt.xlabel('Log Scale Revenue')\n",
    "plt.ylabel('Country')\n",
    "plt.title('Top 5 Revenue-Generating Countries')\n",
    "\n",
    "# Display the plot\n",
    "plt.show()"
   ]
  },
  {
   "cell_type": "markdown",
   "id": "86dd5776-e755-41d8-81c2-4ad9644a2754",
   "metadata": {},
   "source": [
    "--------------------------------------------------------------------------------------------------------------------------------------------\n",
    "--------------------------------------------------------------------------------------------------------------------------------------------\n",
    "--------------------------------------------------------------------------------------------------------------------------------------------"
   ]
  },
  {
   "cell_type": "markdown",
   "id": "ac4f2095-9d9a-40c8-b868-9335a64085a9",
   "metadata": {},
   "source": [
    "# 3 - Testable Hypotheses"
   ]
  },
  {
   "cell_type": "markdown",
   "id": "7c6a025a-7640-4c99-9381-f98bc284e75a",
   "metadata": {},
   "source": [
    "In order to derive meaningful insights from the dataset, we propose a series of testable hypotheses that explore the relationships between various factors influencing revenue generation. \n",
    "These hypotheses aim to identify key trends and patterns in user behavior, seasonal effects, and the effectiveness of different subscription models, ultimately guiding strategic decision-making for this business opportunity."
   ]
  },
  {
   "cell_type": "markdown",
   "id": "1ffe310d-4292-475d-ba5c-b83a4e85c94f",
   "metadata": {},
   "source": [
    "### Hypothesis 1: Revenue Prediction by Country"
   ]
  },
  {
   "cell_type": "markdown",
   "id": "229b832c-8d7a-4df1-9f44-6c6679c223d4",
   "metadata": {},
   "source": [
    "`Statement` : The monthly revenue from the top ten countries is significantly different from each other.\n",
    "\n",
    "`Involved Fields` : country, price, year, month\n",
    "\n",
    "`Target` : The Monthly Revenue which is the total revenue generated in a given month for each country.\n",
    "\n",
    "`Business Metric` : The Revenue Variance Across Countries: The key business metric to be evaluated is whether the monthly revenue varies significantly across the top ten countries. This is critical for understanding market performance and tailoring the company's revenue generation strategies accordingly.\n",
    "\n",
    "---------------------------------------------------------------------------------------------------------------------------------------------\n",
    "\n",
    "`Data Aggregation`: Aggregate the data by country, year, and month to calculate the total monthly revenue for each country. This can be achieved by summing the price for each combination of country, year, and month.\n",
    "The resulting dataset will have fields: country, year, month, and monthly_revenue.\n",
    "Statistical Analysis:\n",
    "\n",
    "`Statistical tests (e.g., ANOVA)` : To compare the monthly revenues across the top ten countries. This will help determine if there are statistically significant differences in revenue generation.\n",
    "Calculate summary statistics (mean, median, variance) for monthly revenue in each country to assess overall performance and variability.\n",
    "Visualization:\n",
    "\n",
    "`Visualizations` : Depict the distribution of monthly revenue across the top ten countries. This will help in identifying outliers and trends visually.  \n",
    "Time series plots can also be beneficial to show trends over time for each country, highlighting seasonal patterns or anomalies.\n",
    "Correlation Analysis:\n",
    "\n",
    "`Correlation Analysis`: Explore correlations between monthly revenue and other factors such as times_viewed, if applicable. This could provide insights into whether user engagement impacts revenue generation.\n",
    "\n",
    "`Insights Extraction`:   \n",
    "Based on the results of the statistical tests and visualizations, draw conclusions about the revenue generation capabilities of each country. Identify which countries are performing well and which are underperforming.\n",
    "Assess whether external factors (e.g., economic conditions, cultural events) correlate with the observed revenue patterns, which could inform strategic decisions.\n"
   ]
  },
  {
   "cell_type": "code",
   "execution_count": null,
   "id": "c2b6fd05-6b63-47ce-8f2a-e69e1075f48b",
   "metadata": {},
   "outputs": [],
   "source": []
  },
  {
   "cell_type": "markdown",
   "id": "8b45d5e4-3b7b-41b5-8222-ae92dc4f69f2",
   "metadata": {},
   "source": [
    "### Hypothesis 2: Impact of User Engagement on Revenue"
   ]
  },
  {
   "cell_type": "markdown",
   "id": "023d60a2-3f42-4da2-9c2e-d9b65df1dd92",
   "metadata": {},
   "source": [
    "`Statement`: Higher times viewed of a service correlates with increased revenue generated from that service.\n",
    "\n",
    "``Involved Fields``: times_viewed, price, year, month, country\n",
    "\n",
    "`Target` : The Monthly Revenue which is the total revenue generated in a given month for each country.\n",
    "\n",
    "`Business Metric` : The Correlation Between User Engagement and Revenue: The key business metric to evaluate is the relationship between times_viewed and monthly revenue. Understanding this relationship is essential for optimizing marketing efforts and improving revenue generation strategies.\n",
    "\n",
    "---------------------------------------------------------------------------------------------------------------------------------------------\n",
    "\n",
    "`Data Aggregation`: Aggregate the data by country, year, month, and potentially by service type (if available) to calculate the total monthly revenue and total times viewed for each service.\n",
    "The resulting dataset will have fields: country, year, month, total_times_viewed, and monthly_revenue.\n",
    "\n",
    "`Statistical Analysis` : \n",
    "- Use correlation coefficients (e.g., Pearson or Spearman correlation) to quantify the relationship between total_times_viewed and monthly revenue. A positive correlation would indicate that higher views are associated with increased revenue.\n",
    "- Conduct regression analysis (e.g., linear regression) to model the relationship between times_viewed and monthly revenue, controlling for other factors such as country, year, and month. This can provide insights into how much of the variance in revenue can be explained by user engagement.\n",
    "\n",
    "`Visualizations`: Create scatter plots to visualize the relationship between total_times_viewed and monthly revenue. Adding a trend line can help illustrate any potential correlation.\n",
    "Box plots can be useful to show the distribution of monthly revenue for different ranges of times_viewed, highlighting potential outliers and the central tendency.\n",
    "\n",
    "`Insights Extraction`: Based on the results of the correlation and regression analyses, draw conclusions about the strength and nature of the relationship between user engagement (measured by times_viewed) and revenue generation.\n",
    "Identify whether increasing user engagement strategies (like improved marketing or user experience) could potentially lead to higher revenues.\n",
    "\n",
    "`Considerations`: It’s important to control for other confounding variables that might influence both times_viewed and monthly revenue. Factors such as seasonality, pricing changes, or marketing campaigns could be included in a multivariate analysis."
   ]
  },
  {
   "cell_type": "code",
   "execution_count": null,
   "id": "dd619012-f4ba-460e-88f3-af5ebc392bca",
   "metadata": {},
   "outputs": [],
   "source": []
  },
  {
   "cell_type": "markdown",
   "id": "5e98ff99-1a65-4ffa-ba42-0d42e61af7d1",
   "metadata": {},
   "source": [
    "### Hypothesis 3: Seasonal Revenue Trends"
   ]
  },
  {
   "cell_type": "markdown",
   "id": "8e2e0344-2943-4eb0-9663-238e9c66ca3a",
   "metadata": {},
   "source": [
    "`Statement`: Monthly revenue exhibits seasonal trends, indicating certain months generate higher revenue than others.\n",
    "\n",
    "`Involved Fields`: year, month, price\n",
    "\n",
    "`Target` : The Monthly Revenue which is the total revenue generated in a given month for each country.\n",
    "\n",
    "`Business Metric` : Seasonal Revenue Trends: The key business metric to evaluate is whether monthly revenue varies significantly across different months of the year. Understanding these trends is vital for planning marketing efforts, budgeting, and staffing.\n",
    "\n",
    "---------------------------------------------------------------------------------------------------------------------------------------------\n",
    "\n",
    "`Data Aggregation`: Aggregate the data by year and month to calculate the total monthly revenue. This involves summing the price for all transactions that occur in that month for each year.\n",
    "The resulting dataset will have fields: year, month, and monthly_revenue.\n",
    "\n",
    "`Statistical Analysis` : \n",
    "- Perform a time series analysis to evaluate seasonal patterns in the monthly revenue data. This could involve using methods such as Seasonal Decomposition of Time Series (STL) to separate the seasonal component from the trend and residual components.\n",
    "- Conduct ANOVA tests to determine if there are statistically significant differences in monthly revenue across different months.\n",
    "\n",
    "`Visualizations`: Create line plots to visualize monthly revenue over multiple years. This can help identify seasonal patterns and trends, showing which months consistently generate higher revenue.\n",
    "Box plots can also be useful to display the distribution of monthly revenue for each month across different years, highlighting variations and potential outliers.\n",
    "\n",
    "`Insights Extraction`: Based on the results of the seasonal decomposition and statistical tests, draw conclusions about which months generate higher revenue and whether these patterns are consistent across years.\n",
    "Identify factors that might influence seasonal trends, such as holidays, special events, or seasonal marketing campaigns.\n",
    "\n",
    "`Considerations`: It's important to consider external factors that may affect revenue in certain months (e.g., economic conditions, industry trends, or competition). Understanding these factors can provide context for the observed seasonal patterns.\n"
   ]
  },
  {
   "cell_type": "code",
   "execution_count": null,
   "id": "365521c7-5b72-4844-8614-61659485541a",
   "metadata": {},
   "outputs": [],
   "source": []
  },
  {
   "cell_type": "markdown",
   "id": "8fe4a7e6-4772-4016-8001-db1bf7da92c9",
   "metadata": {},
   "source": [
    "### Hypothesis 4: Customer Purchase Behavior "
   ]
  },
  {
   "cell_type": "code",
   "execution_count": null,
   "id": "c7b05eb5-2a83-4249-8b8b-53689247fc88",
   "metadata": {},
   "outputs": [],
   "source": [
    "we have to drop missing values"
   ]
  },
  {
   "cell_type": "markdown",
   "id": "64a126e1-3701-4c7b-a74a-4344e7c2f0bf",
   "metadata": {},
   "source": [
    "`Statement`: The average purchase price per customer varies by country.\n",
    "\n",
    "`Involved Fields`: country, customer_id, price\n",
    "\n",
    "`Target` : Average Purchase Price per Customer: This is calculated by summing the price of all transactions for each customer in a given country and dividing by the number of transactions they have made. The resulting measure will represent the average amount spent per customer.\n",
    "\n",
    "`Business Metric` : Variability in Average Purchase Price by Country: The key business metric to evaluate is whether the average purchase price per customer differs significantly across various countries. Understanding this variability can inform marketing strategies, pricing models, and customer engagement efforts.\n",
    "\n",
    "---------------------------------------------------------------------------------------------------------------------------------------------\n",
    "\n",
    "`Data Aggregation`: Group the data by country and customer_id to calculate the total purchase price for each customer. Then, for each country, compute the average purchase price per customer.\n",
    "The resulting dataset will have fields: country, customer_id, and average_purchase_price.\n",
    "\n",
    "`Statistical Analysis` : \n",
    "- Use descriptive statistics to summarize the average purchase price per customer for each country, including measures such as mean, median, and standard deviation.\n",
    "- Conduct ANOVA tests to determine if there are statistically significant differences in the average purchase price across different countries. This will help assess whether any observed variations are meaningful or due to random chance.\n",
    "\n",
    "`Visualizations`: Create bar charts or box plots to visualize the average purchase price per customer by country. This will provide an intuitive view of how purchase behavior differs across regions.\n",
    "Histograms can be useful to visualize the distribution of purchase prices within each country, highlighting patterns and potential outliers.\n",
    "\n",
    "`Insights Extraction`: Based on the results of the statistical analysis and visualizations, draw conclusions about the differences in average purchase prices per customer across countries.\n",
    "Identify potential factors influencing these differences, such as cultural preferences, economic conditions, or regional pricing strategies.\n",
    "\n",
    "`Considerations`: Keep in mind that customer demographics and purchasing power may vary by country, which could influence average spending behavior. Incorporating these factors into further analysis may yield more insights.\n",
    "Consider potential biases in the data, such as the number of transactions per customer or variations in service offerings across countries."
   ]
  },
  {
   "cell_type": "code",
   "execution_count": null,
   "id": "c271bc7f-524f-4867-8e28-ce485cdcf17b",
   "metadata": {},
   "outputs": [],
   "source": []
  }
 ],
 "metadata": {
  "kernelspec": {
   "display_name": "Python 3 (ipykernel)",
   "language": "python",
   "name": "python3"
  },
  "language_info": {
   "codemirror_mode": {
    "name": "ipython",
    "version": 3
   },
   "file_extension": ".py",
   "mimetype": "text/x-python",
   "name": "python",
   "nbconvert_exporter": "python",
   "pygments_lexer": "ipython3",
   "version": "3.11.9"
  }
 },
 "nbformat": 4,
 "nbformat_minor": 5
}
