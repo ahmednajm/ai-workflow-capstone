{
 "cells": [
  {
   "cell_type": "code",
   "execution_count": 2,
   "id": "c0178740-3631-4082-ba14-130e85e75d5d",
   "metadata": {},
   "outputs": [],
   "source": [
    "## Import necessary libraries \n",
    "import os, re, time, joblib, pickle, json, uuid\n",
    "from typing import Tuple, Dict\n",
    "from datetime import date, datetime\n",
    "from collections import defaultdict\n",
    "from loguru import logger\n",
    "\n",
    "import scipy.stats as stats                                \n",
    "import pandas as pd\n",
    "\n",
    "import warnings\n",
    "warnings.filterwarnings('ignore')\n",
    "\n",
    "from sklearn.model_selection import train_test_split, GridSearchCV \n",
    "from sklearn.preprocessing   import StandardScaler, RobustScaler\n",
    "from sklearn.ensemble        import RandomForestRegressor, ExtraTreesRegressor\n",
    "from sklearn.pipeline        import Pipeline\n",
    "from sklearn.metrics         import mean_squared_error, mean_absolute_percentage_error\n",
    "\n",
    "from server_side.ingestion_module     import load_json_data \n",
    "from server_side.model_module         import model_train, model_load, nearest_date, model_predict\n",
    "from server_side.logger_module        import update_train_log, update_predict_log, _is_validate_date, _parse_logs, get_log\n",
    "from server_side.preprocessing_module import data_cleaning_pipeline, time_series_df, engineer_features\n",
    "from server_side.preprocessing_module import check_missing_values, drop_duplicate_data, drop_invalid_data, detect_outliers, drop_outliers \n",
    "\n",
    "SCALER  = RobustScaler()\n",
    "MODEL   = ExtraTreesRegressor(random_state=42)\n",
    "MODEL_PARAM_GRID = {'model__n_estimators' : [90, 100, 110, 120, 130] ,\n",
    "                    'model__max_depth'    : [None, 5, 10, 15]        ,\n",
    "                    'model__criterion'    : ['squared_error']        }\n",
    "\n",
    "CURRENT_DIR = os.getcwd()\n",
    "CLEAN_DATA_DIR    = os.path.join(CURRENT_DIR, 'data'         , 'clean_data')\n",
    "MODEL_DIR         = os.path.join(CURRENT_DIR, 'models'                     )\n",
    "TRAINING_DATA_DIR = os.path.join(CURRENT_DIR, 'training_data'              )\n",
    "LOG_DIR           = os.path.join(CURRENT_DIR, 'server_logs'                )\n",
    "\n",
    "\n",
    "# Start date = 2017-11-28\n",
    "#   End date = 2019-07-31\n",
    "# VERSION    = 2\n",
    "# YEAR       = 2018\n",
    "# MONTH      = 10\n",
    "# DAY        = 30\n"
   ]
  },
  {
   "cell_type": "code",
   "execution_count": null,
   "id": "9f6193a3-e44c-4ec4-a473-04bf201ef6fe",
   "metadata": {},
   "outputs": [],
   "source": []
  }
 ],
 "metadata": {
  "kernelspec": {
   "display_name": "Python 3 (ipykernel)",
   "language": "python",
   "name": "python3"
  },
  "language_info": {
   "codemirror_mode": {
    "name": "ipython",
    "version": 3
   },
   "file_extension": ".py",
   "mimetype": "text/x-python",
   "name": "python",
   "nbconvert_exporter": "python",
   "pygments_lexer": "ipython3",
   "version": "3.11.1"
  }
 },
 "nbformat": 4,
 "nbformat_minor": 5
}
