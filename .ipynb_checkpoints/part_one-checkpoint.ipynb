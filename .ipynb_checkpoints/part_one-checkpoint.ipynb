{
 "cells": [
  {
   "cell_type": "markdown",
   "id": "66c9b992-74de-4922-a5a0-5c177efb829b",
   "metadata": {},
   "source": [
    "# A - Business Opportunity"
   ]
  },
  {
   "cell_type": "markdown",
   "id": "ccddba25-1e72-4b58-ab4c-a93fd5fafafb",
   "metadata": {},
   "source": [
    "## I - The Project Objective"
   ]
  },
  {
   "cell_type": "markdown",
   "id": "ca818fd2-f4eb-4ee3-83c7-132e8e60fec9",
   "metadata": {},
   "source": [
    "AAVAIL aims to transition from a tiered subscription model to an à la carte service model based on user feedback and evolving market demands, especially in international markets.   \n",
    "In order to achieve this, the company seeks to develop a revenue projection tool that can accurately predict monthly revenue for specific countries using a machine learning model.     \n",
    "This tool is crucial for the management team, who currently rely on manual methods to estimate revenue and face challenges with accuracy and efficiency.    \n",
    "By automating revenue predictions, AAVAIL hopes to streamline decision-making processes, stabilize staffing and budget projections, and ultimately enhance business performance."
   ]
  },
  {
   "cell_type": "markdown",
   "id": "b12af292-294e-4a09-a6a9-f4400839a2b7",
   "metadata": {
    "jp-MarkdownHeadingCollapsed": true
   },
   "source": [
    "## II - The Stakeholders"
   ]
  },
  {
   "cell_type": "markdown",
   "id": "812569ec-01db-49cb-9e87-fcc1316cc1b4",
   "metadata": {},
   "source": [
    "Two primary groups have been involved in the design thinking process:\n",
    "\n",
    "- `End Users`: AAVAIL customers who will benefit from the new subscription model.\n",
    "- `Managers`: AAVAIL responsibles for revenue projections and who have expressed a need for a more effective forecasting tool.\n"
   ]
  },
  {
   "cell_type": "markdown",
   "id": "55bd2427-aa71-41dd-922b-c2fdffd827df",
   "metadata": {},
   "source": [
    "## III - The Available Data "
   ]
  },
  {
   "cell_type": "markdown",
   "id": "fbc6885a-a1a9-4f02-aa90-70d6e5069866",
   "metadata": {
    "jp-MarkdownHeadingCollapsed": true
   },
   "source": [
    "The dataset includes transaction-level purchases from thousands of active users across multiple countries, offering valuable historical insights. The fields in this dataset are as follows:\n",
    "\n",
    "- `date` : The date in which the data was recorded, indicating when the transactions occurred.\n",
    "- `country` : The country where the transaction took place, providing geographical context for the sales data.\n",
    "- `invoice` : A unique identifier for each transaction or purchase, enabling tracking of individual sales.\n",
    "- `customer_id` : A unique identifier for each customer, allowing for tracking and analysis of customer behavior and purchase patterns.\n",
    "- `stream_id` : An identifier for the content or service that was accessed or purchased, indicating the source of the transaction.\n",
    "- `times_viewed` : The number of times a particular content or service was viewed by the customer, providing insights into engagement levels.\n",
    "- `price` : The monetary amount charged for the transaction, reflecting the revenue generated from each sale.\n",
    "\n",
    "This dataset was supplied by the company as multiple `JSON` files, each representing a month of the year. \n",
    "\n",
    "Each file contains a `list of dictionaries` featuring the specified key fields mentioned above and historical data values.\n",
    "\n",
    "The dates start the 2017-11-28 and end the 2019-07-31.\n",
    "\n",
    "#### The Ideal Data\n",
    "\n",
    "However, to effectively address the business opportunity, the following data could have been useful :\n",
    "- `User Demographics`: Age, gender, and other demographics to analyze trends in purchasing behavior.\n",
    "- `GDP per Capita` : The total economic output of the country, used as a measure of economic health and consumer spending potential.\n",
    "- `Currency Exchange Rates` : The current value of the country's currency relative to other major currencies, particularly USD or EUR, which could affect subscription pricing.\n",
    "- `Holidays and Seasonal Trends`: National holidays or cultural events that could impact subscription patterns, revenu, or usage trends.\n"
   ]
  },
  {
   "cell_type": "markdown",
   "id": "00615818-09ee-454f-a9dc-83128a9bb505",
   "metadata": {},
   "source": [
    "### 1 - Importing the necessary librairies"
   ]
  },
  {
   "cell_type": "code",
   "execution_count": null,
   "id": "802a1288-ef68-4a29-b033-2a85b1bb278d",
   "metadata": {},
   "outputs": [],
   "source": [
    "## Import necessary libraries \n",
    "\n",
    "\n",
    "import pandas as pd\n",
    "import numpy as np\n",
    "import itertools  \n",
    "\n",
    "# SciPy for statistical functions and tests\n",
    "import scipy.stats as stats                                # General statistical functions\n",
    "from scipy.stats import f                                  # f-distribution functions\n",
    "from scipy.stats import t                                  # t-distribution functions\n",
    "from scipy.stats import shapiro                            # Shapiro-Wilk test for normality\n",
    "from scipy.stats import levene                             # Levene’s test for equal variances\n",
    "from scipy.stats import ttest_ind                          # Independent t-test\n",
    "from scipy.stats import normaltest                         # Test for normality\n",
    "from scipy.stats import probplot                           # Probability plot for normality assessment\n",
    "from scipy.stats import spearmanr                          # Spearman rank correlation coefficient\n",
    "from scipy.stats import pearsonr                           # pearson rank correlation coefficient\n",
    "                       \n",
    "# Statsmodels for statistical modeling and time series analysis\n",
    "import statsmodels.api as sm                               # Main Statsmodels API\n",
    "from statsmodels.tsa.statespace.sarimax import SARIMAX\n",
    "from statsmodels.stats.diagnostic import acorr_ljungbox\n",
    "import statsmodels.stats.multicomp as smc\n",
    "from statsmodels.tsa.seasonal import STL                   # Seasonal-Trend decomposition using LOESS\n",
    "from statsmodels.tsa.seasonal import seasonal_decompose    # Seasonal decomposition\n",
    "from statsmodels.tsa.stattools import acf, pacf            # Autocorrelation and partial autocorrelation functions\n",
    "from statsmodels.tsa.stattools import adfuller             # Augmented Dickey-Fuller test for stationarity\n",
    "\n",
    "# Scikit-learn for machine learning and model evaluation\n",
    "from sklearn.model_selection import train_test_split       # Splitting data into training and test sets\n",
    "from sklearn.linear_model import Ridge                     # Ridge regression model\n",
    "from sklearn.linear_model import RidgeCV                   # Ridge regression with cross-validation\n",
    "from sklearn.metrics import mean_squared_error             # MSE metric for model evaluation\n",
    "from sklearn.ensemble import IsolationForest               # Isolation Forest for anomaly detection\n",
    "\n",
    "# Data visualization\n",
    "import matplotlib.pyplot as plt\n",
    "import seaborn as sns\n",
    "from plotly.subplots import make_subplots  \n",
    "import plotly.express as px \n",
    "import plotly.graph_objects as go \n",
    "\n",
    "# Suppress warnings to keep the output clean\n",
    "import warnings\n",
    "warnings.filterwarnings('ignore')\n",
    "\n",
    "\n",
    "print('\\nNecessary librairies imported\\n')\n"
   ]
  },
  {
   "cell_type": "markdown",
   "id": "5a746885-c371-4c94-b81e-b81422d46807",
   "metadata": {},
   "source": [
    "### 2 - Loading the dataframe"
   ]
  },
  {
   "cell_type": "code",
   "execution_count": null,
   "id": "2466968a-06ee-4fd0-aec3-f123940bea62",
   "metadata": {},
   "outputs": [],
   "source": [
    "## loading the dataframe as loaded_df\n",
    "\n",
    "from data_module import load_json_data\n",
    "loaded_df = load_json_data('cs-train')\n",
    "\n",
    "print(\"\\nLoading Summary\\n{}\".format(\"-\"*22))\n",
    "\n",
    "print(\"\\n... Dataframe loaded as 'loaded_df'\\n\")\n",
    "\n",
    "## Information about the data types\n",
    "print('\\nThe columns are:',loaded_df.columns.tolist(), '\\n')\n",
    "\n",
    "# List of numerical columns\n",
    "numerical_cols = loaded_df.select_dtypes(include='number').columns.tolist()\n",
    "print(f'\\nThe numerical columns in loaded_df are : {\" and \".join(numerical_cols)}\\n')\n",
    "# List of categorycal columns\n",
    "categorycal_cols = loaded_df.select_dtypes(include='category').columns.tolist()\n",
    "print(f'\\nThe categorycal columns in loaded_df are : {\", \".join(categorycal_cols)}\\n')\n",
    "\n",
    "## Rows count\n",
    "print(f'\\nloaded_df contains initialy {len(loaded_df):,.0f} rows\\n')\n"
   ]
  },
  {
   "cell_type": "markdown",
   "id": "037b0bf7-89c0-4b36-9168-571b01e70280",
   "metadata": {},
   "source": [
    "### 3 - Cleaning the dataframe"
   ]
  },
  {
   "cell_type": "markdown",
   "id": "b5edb7ee-254f-4c85-ac91-d4174fec6ca8",
   "metadata": {},
   "source": [
    "#### A - Handling Missing Values"
   ]
  },
  {
   "cell_type": "code",
   "execution_count": null,
   "id": "33d851d6-e154-4ae4-a9c3-f15608b919de",
   "metadata": {},
   "outputs": [],
   "source": [
    "## Check for Missing Values in loaded_df\n",
    "\n",
    "from cleaning_module import check_missing_values\n",
    "\n",
    "check_missing_values(loaded_df)\n",
    "        "
   ]
  },
  {
   "cell_type": "markdown",
   "id": "93dcedff-2bec-4ad6-8667-ad133c3ccf5b",
   "metadata": {},
   "source": [
    "Since we are not planing to use the customer_id column in our analysis, we won't drop rows with those missing values."
   ]
  },
  {
   "cell_type": "markdown",
   "id": "d294b50e-ceb1-4612-8069-d2416a687e95",
   "metadata": {},
   "source": [
    "#### B - Handling Duplicate Rows"
   ]
  },
  {
   "cell_type": "code",
   "execution_count": null,
   "id": "61718322-e4d0-4674-8c5e-da41aa45d2da",
   "metadata": {},
   "outputs": [],
   "source": [
    "from cleaning_module import drop_duplicate_data\n",
    "\n",
    "loaded_df = drop_duplicate_data(loaded_df)"
   ]
  },
  {
   "cell_type": "markdown",
   "id": "42e19dc8-eea8-453a-854e-8b2f33a2f166",
   "metadata": {},
   "source": [
    "#### C - Data Integrity and Quality"
   ]
  },
  {
   "cell_type": "markdown",
   "id": "085a84b4-626d-4b3c-8623-3627ec2a0ecd",
   "metadata": {},
   "source": [
    "To maintain the integrity of our data, we cannot have negative or zero values in price and times_viewed, the numerical columns.\n",
    "\n",
    "Therefore, we will be removing any rows that contain these invalid values."
   ]
  },
  {
   "cell_type": "code",
   "execution_count": null,
   "id": "aa73162b-dd0f-498e-91a6-e59f43ccf184",
   "metadata": {},
   "outputs": [],
   "source": [
    "from cleaning_module import drop_invalid_data\n",
    "\n",
    "loaded_df = drop_invalid_data(loaded_df)"
   ]
  },
  {
   "cell_type": "markdown",
   "id": "5edae4cf-ee00-47d3-a520-c25c038cc06b",
   "metadata": {},
   "source": [
    "#### D - Handling Outliers "
   ]
  },
  {
   "cell_type": "markdown",
   "id": "e1a0c27a-5e0e-4ddf-95bd-0c5a4926b77f",
   "metadata": {},
   "source": [
    "To ensure the accuracy and reliability of our analysis, identifying outliers is essential as these anomalies can significantly influence our results.\n",
    "\n",
    "Therefore, by analyzing each numerical column within individual countries, we will be removing any rows that contain outliers."
   ]
  },
  {
   "cell_type": "markdown",
   "id": "929f3b75-e930-4f19-a9d3-6dc0725c8afb",
   "metadata": {},
   "source": [
    "We will import the detect_outliers function, which identifies outliers in a specified column of the dataframe for each country.\n",
    "\n",
    "This function applies Z-Score, IQR, and Isolation Forest methods to the selected column within each country group."
   ]
  },
  {
   "cell_type": "code",
   "execution_count": null,
   "id": "4c470d8c-e861-4b2b-8603-6beb0ef7eac9",
   "metadata": {},
   "outputs": [],
   "source": [
    "from cleaning_module import drop_outliers\n",
    "\n",
    "loaded_df = drop_outliers(loaded_df)"
   ]
  },
  {
   "cell_type": "markdown",
   "id": "ca62f72a-bbcd-4c09-98ae-85e827fe99da",
   "metadata": {},
   "source": [
    "#### E - Discovering Unique Entries in the Columns"
   ]
  },
  {
   "cell_type": "code",
   "execution_count": null,
   "id": "98df79b4-cedd-4216-9d0c-0e002c957385",
   "metadata": {},
   "outputs": [],
   "source": [
    "## Check for uniqueness of entries in each column of loaded_df_without_outliers\n",
    "\n",
    "print(\"\\nUniqueness Summary\\n{}\\n\".format(\"-\"*39))\n",
    "\n",
    "for column in ['country','date','invoice_id','customer_id','stream_id'] :\n",
    "    num_unique = loaded_df[column].nunique()           \n",
    "    \n",
    "    print(f\"There are {num_unique:,.0f} unique {column}\\n\")"
   ]
  },
  {
   "cell_type": "markdown",
   "id": "f16a3f9e-bae1-4598-beb1-bdb369676613",
   "metadata": {},
   "source": [
    "# B - Data Analysis and Hypothesis Testing "
   ]
  },
  {
   "cell_type": "markdown",
   "id": "cea51458-6897-4e40-94f5-ec8553cac9ac",
   "metadata": {},
   "source": [
    "\n",
    "In this section, we conduct a comprehensive analysis on the revenue data to uncover significant patterns or relationships. Specifically, we will examine whether the monthly revenue from the top ten countries shows notable differences, explore the relationships between various factors influencing revenue generation, and investigate seasonal trends in revenue. \n",
    "\n",
    "This analysis will help validate assumptions and draw meaningful conclusions about revenue dynamics and factors that may influence them.\n",
    "\n"
   ]
  },
  {
   "cell_type": "markdown",
   "id": "1a3f4a9d-b489-4ab3-a36a-fb4d68cbde7b",
   "metadata": {},
   "source": [
    "## I - Revenu investigation and Comparisons Across Countries"
   ]
  },
  {
   "cell_type": "markdown",
   "id": "5eefe3a3-987b-42d2-bb5d-ead898378b3e",
   "metadata": {},
   "source": [
    "We will aggregate the data by country, year, and month to calculate total monthly revenue for each country. Then, we'll perform an ANOVA analysis to test whether or not there are significant differences in monthly revenue across the top ten countries. "
   ]
  },
  {
   "cell_type": "markdown",
   "id": "4c7b5e8c-886e-4357-9c1a-7599ab20461c",
   "metadata": {},
   "source": [
    "### 1 - Top 10 Revenue-Generating Countries"
   ]
  },
  {
   "cell_type": "markdown",
   "id": "8728aba3-4f63-4776-aeb8-2fb3ec27753c",
   "metadata": {},
   "source": [
    "Let's create a bar chart to display the top 10 countries ranked by revenue generation. To ensure clarity, the x-axis will utilize a logarithmic scale to represent revenue, while the y-axis will list the countries. This visualization aims to facilitate a clear comparison of the relative revenue contributions from each country."
   ]
  },
  {
   "cell_type": "code",
   "execution_count": null,
   "id": "d08bffaa-9df2-49cf-9b2f-86a75427626c",
   "metadata": {},
   "outputs": [],
   "source": [
    "from plot_module import top_revenue_by_country\n",
    "\n",
    "top_revenue_generating_countries_df = top_revenue_by_country(loaded_df, top_n=10)"
   ]
  },
  {
   "cell_type": "markdown",
   "id": "299266ee-b599-4d2f-9023-46f3230b14d5",
   "metadata": {},
   "source": [
    "Notably, the UK is the predominant player in revenue generation, significantly outpacing all other countries, particularly EIRE, which ranks second. \n",
    "\n",
    "All top 10 revenue-generating countries are European, underscoring the continent's strong market presence. \n",
    "\n",
    "At a glance, the stark revenue disparity indicates that while the UK leads, other countries, such as Portugal and Belgium, generate considerably less revenue. "
   ]
  },
  {
   "cell_type": "code",
   "execution_count": null,
   "id": "f5ebee13-e444-444d-9382-5931a7416e9c",
   "metadata": {},
   "outputs": [],
   "source": [
    "# Calculate revenue ratio\n",
    "revenue_ratio = (top_revenue_generating_countries_df['revenue'].iloc[0] /\n",
    "                 top_revenue_generating_countries_df['revenue'].iloc[1:].sum()).astype(int)\n",
    "\n",
    "print(f'\\nAs a matter of fact, the revenue generated by {top_revenue_generating_countries_df[\"country\"].iloc[0]} is approximately '\n",
    "      f'{revenue_ratio} times greater than the combined revenue of the next {len(top_revenue_generating_countries_df)-1} countries.\\n')"
   ]
  },
  {
   "cell_type": "markdown",
   "id": "a89de34a-7af8-4b45-8c37-4088d8123ad6",
   "metadata": {},
   "source": [
    "### 2 - Revenue Distribution Comparison Across Top Countries"
   ]
  },
  {
   "cell_type": "markdown",
   "id": "0784904d-4b1f-438a-b3c0-61ad77e18538",
   "metadata": {},
   "source": [
    "Let's visually assess whether monthly revenue differs significantly across the top ten countries."
   ]
  },
  {
   "cell_type": "code",
   "execution_count": null,
   "id": "2f8ebfd7-e446-4da3-a2ec-2586dae27f4b",
   "metadata": {},
   "outputs": [],
   "source": [
    "from plot_module import violin_plot\n",
    "\n",
    "violin_plot(loaded_df, 'United Kingdom')\n",
    "\n",
    "top_9_revenue_generating_countries = top_revenue_generating_countries_df.country.tolist()[1:]\n",
    "violin_plot(loaded_df, top_9_revenue_generating_countries)\n"
   ]
  },
  {
   "cell_type": "markdown",
   "id": "0fa1c231-c00f-42ed-a906-193997d2c616",
   "metadata": {},
   "source": [
    "Overall, the violin plot suggests that the United Kingdom is the top revenue-generating country with a higher median revenue and a wider range of daily revenue. The other countries have similar distributions of daily revenue, with a median close to 0 and a smaller spread."
   ]
  },
  {
   "cell_type": "markdown",
   "id": "3c8f676b-7a59-463a-9577-09d6fd8bfe82",
   "metadata": {},
   "source": [
    "### 3 - ANOVA Analysis of Revenue Across Countries"
   ]
  },
  {
   "cell_type": "markdown",
   "id": "4417cb73-a761-4d5b-9261-f5dd8c5d05d5",
   "metadata": {},
   "source": [
    "Based on the observations above, we might expect to find significant differences in mean revenues among the countries, especially between the United Kingdom and the other countries. However, ANOVA analysis would be necessary to confirm this statistically."
   ]
  },
  {
   "cell_type": "code",
   "execution_count": null,
   "id": "31058acc-c29a-4a2f-ae6e-4ab72c9eb3a4",
   "metadata": {},
   "outputs": [],
   "source": [
    "from data_module import anova_df\n",
    "\n",
    "top_revenue_generating_countries = top_revenue_generating_countries_df.country.tolist()\n",
    "\n",
    "anova_df = anova_df(loaded_df, top_revenue_generating_countries)"
   ]
  },
  {
   "cell_type": "markdown",
   "id": "53098d87-5c6c-40cc-82fb-bf35d8f1c170",
   "metadata": {},
   "source": [
    "#### a - Assessing Normality of Revenue Distributions"
   ]
  },
  {
   "cell_type": "markdown",
   "id": "36db0d60-6b49-4ba6-8489-a085e8e67daf",
   "metadata": {},
   "source": [
    "To begin with, let's check the normality of monthly revenue across the top 10 revenue genereting countries."
   ]
  },
  {
   "cell_type": "code",
   "execution_count": null,
   "id": "61fe77f9-b867-47b4-ac0a-637109900d8c",
   "metadata": {},
   "outputs": [],
   "source": [
    "from test_module import shapiro_test\n",
    "\n",
    "for country, group in anova_df.groupby('country'):\n",
    "    result = shapiro_test(group, 'revenue')\n",
    "    print(f\"\\nFor {country}, {result}\")\n",
    "print(\"\\n\")"
   ]
  },
  {
   "cell_type": "markdown",
   "id": "d416f06f-f24e-46bf-9868-d3929e2765cf",
   "metadata": {},
   "source": [
    "#### b - Homogeneity of Variances Assessment"
   ]
  },
  {
   "cell_type": "markdown",
   "id": "5da25888-4d51-4fe4-8514-e4112e83bdf7",
   "metadata": {},
   "source": [
    "Next, let's confirm the assumption of equal variances across the 10 groups.\n",
    "\n",
    "As the data is not robustly normally distributed, we will use the Levene's test to ensure accurate statistical analysis."
   ]
  },
  {
   "cell_type": "code",
   "execution_count": null,
   "id": "100e29fb-29b0-4ade-994e-7ecdffcea621",
   "metadata": {},
   "outputs": [],
   "source": [
    "from test_module import levenes_test\n",
    "\n",
    "levenes_test(anova_df, 'country', 'revenue')"
   ]
  },
  {
   "cell_type": "markdown",
   "id": "4e4a70db-5715-422e-a67c-e6e860c084ae",
   "metadata": {},
   "source": [
    "#### c - Revenue Comparison Across Countries"
   ]
  },
  {
   "cell_type": "markdown",
   "id": "e9da43e9-c9b8-4c58-be91-e2f5b741d23a",
   "metadata": {},
   "source": [
    "Since we are dealing with groups that have unequal variances, we will use the Welch's ANOVA test which is an adaptation of the traditional ANOVA."
   ]
  },
  {
   "cell_type": "code",
   "execution_count": null,
   "id": "22c52cdc-57aa-4847-98ff-3c49a61a79ff",
   "metadata": {},
   "outputs": [],
   "source": [
    "from test_module import welchs_anova_test\n",
    "\n",
    "welchs_anova_test(anova_df, 'country', 'revenue')"
   ]
  },
  {
   "cell_type": "markdown",
   "id": "b710df4b-092d-443b-aee7-ff59b0317b9a",
   "metadata": {},
   "source": [
    "#### d - Post-Hoc Analysis of Revenue Differences"
   ]
  },
  {
   "cell_type": "markdown",
   "id": "e7e5d1c9-4374-41b4-9f85-0c36bd1b9485",
   "metadata": {},
   "source": [
    "Let's dive a little deeper into the analysis and perform Games Howell test which is a the fisrt statistical test choice when the condition of equal variances across groups is not met.\n",
    "\n",
    "Games Howell test is for pairwise comparisons and it identify which specific country differ significantly from each other after the Welch's ANOVA results."
   ]
  },
  {
   "cell_type": "code",
   "execution_count": null,
   "id": "e5cca094-0aa7-48b1-a615-2a0ff5191883",
   "metadata": {},
   "outputs": [],
   "source": [
    "from test_module import Games_Howell_test\n",
    "\n",
    "Games_Howell_test(anova_df, 'country', 'revenue')"
   ]
  },
  {
   "cell_type": "markdown",
   "id": "f7044edf-72e0-4064-841d-74d48c2f5405",
   "metadata": {},
   "source": [
    "### 4 - Summary of Findings"
   ]
  },
  {
   "cell_type": "markdown",
   "id": "5248d773-ee5a-49ff-b85e-dddcee0cb2b8",
   "metadata": {},
   "source": [
    "The results above reveal significant differences in means among multiple countries, it particularly highlights that Belgium, Channel Islands, and several other countries show pronounced disparities when compared to the United Kingdom, EIRE, and France. \n",
    "\n",
    "Notably, Belgium demonstrates a significant negative mean difference with respect to all countries except for Channel Islands, where no significant difference was found. \n",
    "\n",
    "In contrast, EIRE shows significant mean differences with all other groups, indicating a consistent pattern of variation across those countries.\n",
    "\n",
    "Overall, the findings suggest a complex landscape of differences among the countries, particularly with the United Kingdom being a major outlier."
   ]
  },
  {
   "cell_type": "markdown",
   "id": "6e514a81-f609-4307-a79a-f01d548a5c1d",
   "metadata": {},
   "source": [
    "## II - Impact Analysis of User Engagement on Monthly Revenue"
   ]
  },
  {
   "cell_type": "markdown",
   "id": "c18c9bdf-acab-4025-afef-b417ed4f2a6a",
   "metadata": {},
   "source": [
    "Let's evaluate the impact of user engagement (measured by total purchases, total streams, and total times viewed) and monthly revenue."
   ]
  },
  {
   "cell_type": "markdown",
   "id": "6e58c279-60ca-4380-a7df-07395a852cd0",
   "metadata": {},
   "source": [
    "We will aggregate the data by year and month to calculate the total monthly revenue, total purchases, total streams, and total times viewed. Then, we'll analyze the correlation between user engagement and monthly revenue using correlation coefficients and regression analysis. "
   ]
  },
  {
   "cell_type": "markdown",
   "id": "fbd0fce8-978f-42a8-9ff4-516c5be2a19e",
   "metadata": {},
   "source": [
    "### 1 - Scatter Plot of Revenue vs. User Engagement Variables"
   ]
  },
  {
   "cell_type": "code",
   "execution_count": null,
   "id": "07356f64-5b30-4a33-85a4-0c8cae803842",
   "metadata": {},
   "outputs": [],
   "source": [
    "# Aggregate the data by year and month and calculate the total monthly revenue\n",
    "\n",
    "from data_module import time_series_df\n",
    "\n",
    "user_engagement_df = (time_series_df(loaded_df, country=None)\n",
    "                      .groupby('year-month')\n",
    "                      .sum(numeric_only=True)\n",
    "                      .reset_index()\n",
    "                      )\n",
    "user_engagement_df.head(3)                                                     "
   ]
  },
  {
   "cell_type": "markdown",
   "id": "bb3bf281-1afb-489d-8a10-9db7815beabf",
   "metadata": {},
   "source": [
    "Let's visualize the relationship between the revenue and the user engagement variables"
   ]
  },
  {
   "cell_type": "code",
   "execution_count": null,
   "id": "b57fbaf7-22c4-4db0-820a-2c2666eb7871",
   "metadata": {},
   "outputs": [],
   "source": [
    "# Create scatter plots\n",
    "\n",
    "from plot_module import pair_plot\n",
    "\n",
    "pair_plot(user_engagement_df, 'revenue')"
   ]
  },
  {
   "cell_type": "markdown",
   "id": "4291b3c3-b931-4140-8fc1-c91bb73cb478",
   "metadata": {},
   "source": [
    "Overall, he scatter plots reveal a moderate to strong positive correlation between revenue and purchases, unique_invoices, and total_views.\n",
    "\n",
    "These findings indicate that while purchases, unique_invoices, and total_views may be influential factors in revenue generation, unique_streams might not have a significant impact."
   ]
  },
  {
   "cell_type": "markdown",
   "id": "4ed5ecaf-604a-4650-9668-5b645ade726e",
   "metadata": {},
   "source": [
    "### 2 - Assessing Normality of user engagement variables distribution"
   ]
  },
  {
   "cell_type": "markdown",
   "id": "9d7f8237-27e6-453d-985f-903c0c3073f1",
   "metadata": {},
   "source": [
    "Let's check for normality in the statistical distributions of user engagement variables "
   ]
  },
  {
   "cell_type": "code",
   "execution_count": null,
   "id": "34485fa5-9320-423e-9804-a35b5fbf2524",
   "metadata": {},
   "outputs": [],
   "source": [
    "from test_module import shapiro_test\n",
    "\n",
    "# Define the user engagement variables\n",
    "user_engagement_columns = user_engagement_df.select_dtypes(include='number').columns.tolist()\n",
    "\n",
    "# Check whether or not the variable are normaly distributed\n",
    "for line in shapiro_test(user_engagement_df, user_engagement_columns).split('\\n'):\n",
    "    print(line)\n"
   ]
  },
  {
   "cell_type": "markdown",
   "id": "b487eba3-7116-4a08-bf6a-4c4b50d172c7",
   "metadata": {},
   "source": [
    "### 3 - Correlation Matrix"
   ]
  },
  {
   "cell_type": "markdown",
   "id": "970d78f5-7055-4f08-a231-904f94471b20",
   "metadata": {},
   "source": [
    "Since the user engagement variables are not normally distributed, we will use the Spearman method to analyze the correlation between user engagement and the monthly revenues"
   ]
  },
  {
   "cell_type": "code",
   "execution_count": null,
   "id": "803beacb-128c-44e3-90d7-da256a6eb572",
   "metadata": {},
   "outputs": [],
   "source": [
    "from plot_module import correlation_matrix\n",
    "\n",
    "\n",
    "# Plot the correlation matrix and its statistical significances\n",
    "\n",
    "correlation_matrix(user_engagement_df, 'revenue', 'spearman')"
   ]
  },
  {
   "cell_type": "markdown",
   "id": "ab5ba43c-11e5-4dc2-ad39-5f3490edb178",
   "metadata": {},
   "source": [
    "\n",
    "The data reveals a significant relationship among user engagement variables (purchases, streams, and views) highlighting their direct impact on revenue. \n",
    "\n",
    "Notably, the strong correlations between unique streams, total views, and revenue indicate that enhancing customer engagement through increased content views and unique streams is crucial for driving revenue growth.\n",
    "\n",
    "Finally, we can easily observe a potentiel multicollinearity among the user engagement variables"
   ]
  },
  {
   "cell_type": "markdown",
   "id": "4e5de019-7e99-4c1d-aa0e-b1e2ab41fe50",
   "metadata": {},
   "source": [
    "## III - Regression Analysis on Revenue"
   ]
  },
  {
   "cell_type": "markdown",
   "id": "6c76bc09-c449-4c9d-a989-f9dd67f47e00",
   "metadata": {},
   "source": [
    "To provide insights into how much of the variance in revenue can be explained by user engagement, we conduct a regression analysis to model the relationship between the user engagement variables and monthly revenue, controlling for other factors such as country."
   ]
  },
  {
   "cell_type": "markdown",
   "id": "ad5c2f21-7c85-48df-91fc-23840e7bd850",
   "metadata": {},
   "source": [
    "### 1 - Ridge Regression"
   ]
  },
  {
   "cell_type": "markdown",
   "id": "3bcb1ce7-a3ac-4d8a-ad61-6ca273f2ed5f",
   "metadata": {},
   "source": [
    "To begin with, and to mitigate the multicollinearity among the user engagement variables, we will employ Ridge regression alongside feature selection techniques."
   ]
  },
  {
   "cell_type": "code",
   "execution_count": null,
   "id": "bad22498-d88e-4522-bb1a-8a9ecb05a8e9",
   "metadata": {},
   "outputs": [],
   "source": [
    "# Define the features and target variable\n",
    "y = user_engagement_df['revenue']\n",
    "X = user_engagement_df.drop(columns=['year-month','revenue']) \n",
    "\n",
    "# Initialize variables to track the best model\n",
    "best_mse = float('inf')\n",
    "best_features = None\n",
    "\n",
    "# Iterate through all combinations of predictors\n",
    "features = X.columns\n",
    "num_features = len(features)\n",
    "\n",
    "for i in range(1, num_features + 1):\n",
    "    for combination in itertools.combinations(features, i):\n",
    "        # Train the model with the selected features\n",
    "        model = RidgeCV(alphas=np.logspace(-6, 6, 13), store_cv_values=True)\n",
    "        model.fit(X[list(combination)], y)  # Fit the model on the entire dataset\n",
    "        \n",
    "        # Make predictions and calculate MSE\n",
    "        predictions = model.predict(X[list(combination)])\n",
    "        mse = mean_squared_error(y, predictions)  # Calculate MSE on the same dataset\n",
    "\n",
    "        # Check if this is the best model\n",
    "        if mse < best_mse:\n",
    "            best_mse = mse\n",
    "            best_features = combination\n",
    "\n",
    "# Output the best model results\n",
    "print(\"\\nBest features:\", best_features)\n",
    "print(\"Best Mean Squared Error:\", best_mse)\n"
   ]
  },
  {
   "cell_type": "markdown",
   "id": "8ffab05f-e3ce-42f5-ab54-61445f438b30",
   "metadata": {},
   "source": [
    "### 2 - Simple Linear Regression "
   ]
  },
  {
   "cell_type": "markdown",
   "id": "ef60bf1e-54b9-4632-bc5e-cc2fe38ae53b",
   "metadata": {},
   "source": [
    "The Ridge regression identified purchases, unique invoices, and total views as the optimal features. We will use these, along with a constant term, to build a simple linear regression model, aiming to ensure clarity and interpretability in our analysis."
   ]
  },
  {
   "cell_type": "code",
   "execution_count": null,
   "id": "cb873d78-4ff2-47e6-bafd-08d26c560625",
   "metadata": {},
   "outputs": [],
   "source": [
    "# Define the features and target variable\n",
    "X = user_engagement_df[list(best_features)]\n",
    "y = user_engagement_df['revenue']\n",
    "\n",
    "# Add a constant to the model\n",
    "X = sm.add_constant(X)\n",
    "\n",
    "# Fit the model\n",
    "model = sm.OLS(y, X).fit()\n",
    "\n",
    "# Print the summary\n",
    "print(model.summary())"
   ]
  },
  {
   "cell_type": "markdown",
   "id": "9308423a-81e6-495b-ba32-01ed4d344da9",
   "metadata": {},
   "source": [
    "The OLS regression model demonstrates a strong fit with an R-squared of 0.995, indicating that 99.5% of the variance in revenue is explained by the independent variables. \n",
    "\n",
    "Significant predictors include purchases (p < 0.001), which positively influences revenue, and total views (p < 0.001), which negatively affects revenue, suggesting that increased views might not translate to higher revenue in this context. "
   ]
  },
  {
   "cell_type": "markdown",
   "id": "d037b12e-8ab6-410e-ae16-157339c08db0",
   "metadata": {},
   "source": [
    "## IV - Seasonal Revenue Trend Analysis"
   ]
  },
  {
   "cell_type": "markdown",
   "id": "5a7e3b78-06ff-45b9-b6fa-ffccd7ca696f",
   "metadata": {},
   "source": [
    "Let's delve into the seasonal revenue trends, which hopefuly will reveal that certain days yield significantly higher revenue than others. \n",
    "\n",
    "This analysis will focus on the fields of days and price. To evaluate the seasonal patterns and identify significant revenue variations across days, we will employ statistical methods such as Seasonal Decomposition of Time Series (STL) or Autocorrelation or Partial Autocorrelation (ACF/PACF). "
   ]
  },
  {
   "cell_type": "markdown",
   "id": "c3529ce5-e020-48f9-bc8c-c9e5f792f5db",
   "metadata": {},
   "source": [
    "### 1 - Date invistigation "
   ]
  },
  {
   "cell_type": "markdown",
   "id": "07332728-b3dd-4924-b172-3e44e506d62b",
   "metadata": {},
   "source": [
    "To begin with, let's understand the time coverage and potential gaps in the data."
   ]
  },
  {
   "cell_type": "code",
   "execution_count": null,
   "id": "4d8d0e21-b22a-4f5b-b583-3f2215cae17b",
   "metadata": {},
   "outputs": [],
   "source": [
    "## Dates Span and Missing Observations\n",
    "\n",
    "nunique_dates = loaded_df.date.nunique()\n",
    "\n",
    "max_date = loaded_df.date.max()\n",
    "min_date = loaded_df.date.min()\n",
    "\n",
    "span_dates = (max_date -  min_date).days + 1\n",
    "\n",
    "missing_observations = span_dates - nunique_dates\n",
    "\n",
    "print(\"\\nDates Summary\\n{}\".format(\"-\"*23))\n",
    "\n",
    "print(f'\\nAs highlighted above, there are {nunique_dates} unique date.')\n",
    "\n",
    "print(f'\\nThe dates span a range of {span_dates} days')\n",
    "\n",
    "print(f'\\nThe dates start the {min_date} and end the {max_date}')\n",
    "\n",
    "print(f\"\\nThere are {missing_observations} missing date observations.\\n\")"
   ]
  },
  {
   "cell_type": "markdown",
   "id": "b4bba483-0ba8-47e2-9aad-434c5220eb6f",
   "metadata": {},
   "source": [
    "### 2 - Revenue Time Series Analysis"
   ]
  },
  {
   "cell_type": "markdown",
   "id": "9f39dd69-147a-4241-8fae-ef5a216d251a",
   "metadata": {},
   "source": [
    "#### a - Revenue Time Series Visualization"
   ]
  },
  {
   "cell_type": "markdown",
   "id": "dc04c354-a308-4536-b9c4-ee553b37a5dc",
   "metadata": {},
   "source": [
    "Next, we’ll visualize the Daily Revenue Over Time to identify trends, seasonal patterns, and fluctuations in revenue. \n",
    "\n",
    "This plot will help us assess the consistency of revenue generation and detect any anomalies or significant peaks and troughs across the observed period."
   ]
  },
  {
   "cell_type": "code",
   "execution_count": null,
   "id": "2e62cd3c-2412-4e2b-966d-d39e92a66972",
   "metadata": {},
   "outputs": [],
   "source": [
    "from data_module import time_series_df\n",
    "\n",
    "ts_df = time_series_df(loaded_df, country=None)\n",
    "ts_df = ts_df[['date','revenue']]\n",
    "ts_df['date'] = pd.to_datetime(ts_df['date'])\n",
    "# Set 'date' as datetime and index\n",
    "ts_df.set_index('date', inplace=True)\n"
   ]
  },
  {
   "cell_type": "code",
   "execution_count": null,
   "id": "2c538d68-a782-422e-ada7-b5bd5448f56c",
   "metadata": {},
   "outputs": [],
   "source": [
    "# Plot Revenue Time Series \n",
    "fig = px.line(ts_df, x=ts_df.index, y=ts_df.revenue, \n",
    "              title='Daily Revenue Over Time', \n",
    "              labels={'revenue': 'Revenue', 'index': 'Date'})\n",
    "fig.update_layout(xaxis_title='',\n",
    "                  yaxis_title='',\n",
    "                  width=1100,  \n",
    "                  height=500,\n",
    "                 )\n",
    "fig.show()"
   ]
  },
  {
   "cell_type": "markdown",
   "id": "a58bd609-2695-4b59-94ec-e877bc6201e1",
   "metadata": {},
   "source": [
    "The chart reveals a distinct pattern of gradual revenue growth, culminating in a significant peak during the fourth quarter of each year, followed by a swift decline to a stable mid-level plateau that persists throughout the subsequent year."
   ]
  },
  {
   "cell_type": "markdown",
   "id": "b5989e6c-0f73-4e79-93d4-b094d891a9e6",
   "metadata": {},
   "source": [
    "#### b - Revenue Time Series autocorrelation"
   ]
  },
  {
   "cell_type": "markdown",
   "id": "1486a960-934b-4f02-b556-4e82659cd9d0",
   "metadata": {},
   "source": [
    "To finish with, let's delve a little bit into the seasonality of the revenue time series."
   ]
  },
  {
   "cell_type": "code",
   "execution_count": null,
   "id": "4b6ed0d2-6f9c-4ac7-b8c5-e8d95b85c377",
   "metadata": {},
   "outputs": [],
   "source": [
    "# plot revenue autocorrelation to detect any seasonality \n",
    "\n",
    "from plot_module import plot_autocorrelation\n",
    "\n",
    "plot_autocorrelation(ts_df, 'revenue', 600)\n"
   ]
  },
  {
   "cell_type": "markdown",
   "id": "99e4a4a3-8c50-485f-ab3f-de459d72fb9d",
   "metadata": {},
   "source": [
    "We can effortlessly detect the weekly fluctuations that recur consistently over each seven lags, as well as observe the yearly seasonality in the data at lags of 364.\n"
   ]
  },
  {
   "cell_type": "markdown",
   "id": "e1412009-a5ef-480d-9fd7-c3ca2a039385",
   "metadata": {},
   "source": [
    "To assess the stationarity of the daily revenue data, we perform the Augmented Dickey-Fuller test. \n",
    "\n",
    "This statistical test helps determine whether the time series has a unit root, which would indicate non-stationarity. "
   ]
  },
  {
   "cell_type": "code",
   "execution_count": null,
   "id": "1c70e6e4-e7ca-4763-a402-1c971a3c5493",
   "metadata": {},
   "outputs": [],
   "source": [
    "# perform Dickey-Fuller test on revenue\n",
    "\n",
    "from test_module import augmented_dickey_fuller_test\n",
    "\n",
    "augmented_dickey_fuller_test(auto_sarimax_df.revenue)\n"
   ]
  },
  {
   "cell_type": "code",
   "execution_count": null,
   "id": "8007c5a0-8451-4e42-aa2b-dfdb59b7897a",
   "metadata": {},
   "outputs": [],
   "source": []
  }
 ],
 "metadata": {
  "kernelspec": {
   "display_name": "Python 3 (ipykernel)",
   "language": "python",
   "name": "python3"
  },
  "language_info": {
   "codemirror_mode": {
    "name": "ipython",
    "version": 3
   },
   "file_extension": ".py",
   "mimetype": "text/x-python",
   "name": "python",
   "nbconvert_exporter": "python",
   "pygments_lexer": "ipython3",
   "version": "3.11.1"
  }
 },
 "nbformat": 4,
 "nbformat_minor": 5
}
